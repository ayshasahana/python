{
 "cells": [
  {
   "cell_type": "code",
   "execution_count": null,
   "metadata": {},
   "outputs": [
    {
     "name": "stdout",
     "output_type": "stream",
     "text": [
      "enter the first no:2\n"
     ]
    }
   ],
   "source": [
    "a=int(input(\"enter the first no:\"))\n",
    "b=int(input(\"enter the second no:\"))\n",
    "c=int(input(\"enter the third no:\"))\n",
    "if(a>b and a>c):\n",
    "    print(\"%d is greater\"%a)\n",
    "elif(b>c):\n",
    "    print(\"%d is greater\"%b)\n",
    "else:\n",
    "    print(\"%d is greater\"%c)"
   ]
  },
  {
   "cell_type": "code",
   "execution_count": null,
   "metadata": {
    "collapsed": true
   },
   "outputs": [],
   "source": []
  }
 ],
 "metadata": {
  "kernelspec": {
   "display_name": "Python 3",
   "language": "python",
   "name": "python3"
  },
  "language_info": {
   "codemirror_mode": {
    "name": "ipython",
    "version": 3
   },
   "file_extension": ".py",
   "mimetype": "text/x-python",
   "name": "python",
   "nbconvert_exporter": "python",
   "pygments_lexer": "ipython3",
   "version": "3.6.3"
  }
 },
 "nbformat": 4,
 "nbformat_minor": 2
}
