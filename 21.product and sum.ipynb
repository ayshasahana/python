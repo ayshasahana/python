{
 "cells": [
  {
   "cell_type": "code",
   "execution_count": 5,
   "metadata": {},
   "outputs": [
    {
     "name": "stdout",
     "output_type": "stream",
     "text": [
      "enter the first integer number:2000\n",
      "enter the second integer number:4000\n",
      "6000 is a sum\n"
     ]
    }
   ],
   "source": [
    "a=int(input(\"enter the first integer number:\"))\n",
    "b=int(input(\"enter the second integer number:\"))\n",
    "product=a*b\n",
    "sum=a+b\n",
    "if(product>1000):\n",
    " print(\"%d is a sum\"%sum)\n",
    "else:\n",
    " print(\"%d is a product\"%product)"
   ]
  },
  {
   "cell_type": "code",
   "execution_count": null,
   "metadata": {
    "collapsed": true
   },
   "outputs": [],
   "source": []
  }
 ],
 "metadata": {
  "kernelspec": {
   "display_name": "Python 3",
   "language": "python",
   "name": "python3"
  },
  "language_info": {
   "codemirror_mode": {
    "name": "ipython",
    "version": 3
   },
   "file_extension": ".py",
   "mimetype": "text/x-python",
   "name": "python",
   "nbconvert_exporter": "python",
   "pygments_lexer": "ipython3",
   "version": "3.6.3"
  }
 },
 "nbformat": 4,
 "nbformat_minor": 2
}
