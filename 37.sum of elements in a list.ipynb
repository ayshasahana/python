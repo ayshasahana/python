{
 "cells": [
  {
   "cell_type": "code",
   "execution_count": 3,
   "metadata": {},
   "outputs": [
    {
     "name": "stdout",
     "output_type": "stream",
     "text": [
      "enter a list:1124356\n",
      "sum of the elements in the list  ['1', '1', '2', '4', '3', '5', '6'] = 22\n"
     ]
    }
   ],
   "source": [
    "#sum of elements in a list\n",
    "l=list(input(\"enter a list:\"))\n",
    "l1=len(l)\n",
    "a=0\n",
    "i=0\n",
    "for i in range(l1):\n",
    "    b=int(l[i])\n",
    "    a=a+b\n",
    "print(\"sum of the elements in the list \",l, \"=\",a)\n"
   ]
  },
  {
   "cell_type": "code",
   "execution_count": null,
   "metadata": {
    "collapsed": true
   },
   "outputs": [],
   "source": []
  }
 ],
 "metadata": {
  "kernelspec": {
   "display_name": "Python 3",
   "language": "python",
   "name": "python3"
  },
  "language_info": {
   "codemirror_mode": {
    "name": "ipython",
    "version": 3
   },
   "file_extension": ".py",
   "mimetype": "text/x-python",
   "name": "python",
   "nbconvert_exporter": "python",
   "pygments_lexer": "ipython3",
   "version": "3.6.3"
  }
 },
 "nbformat": 4,
 "nbformat_minor": 2
}
