{
 "cells": [
  {
   "cell_type": "code",
   "execution_count": null,
   "metadata": {},
   "outputs": [
    {
     "name": "stdout",
     "output_type": "stream",
     "text": [
      "1. Rectangle\n",
      "2. Circle\n",
      "3. Cuboid\n",
      " 4. Sphere\n",
      " 5. Exit\n",
      "Enter your choice: 4\n",
      "Enter radius: 1\n",
      "Area of sphere:  6.28\n",
      "Perimeter of sphere:  12.56\n",
      "1. Rectangle\n",
      "2. Circle\n",
      "3. Cuboid\n",
      " 4. Sphere\n",
      " 5. Exit\n"
     ]
    }
   ],
   "source": [
    "from graphics import rectangle\n",
    "from graphics import circ\n",
    "from graphics.graphics3D import cub\n",
    "from graphics.graphics3D import spr\n",
    "\n",
    "while(1):\n",
    "    print(\"1. Rectangle\\n2. Circle\\n3. Cuboid\\n 4. Sphere\\n 5. Exit\")\n",
    "    ch=int(input(\"Enter your choice: \"))\n",
    "    if ch==1:\n",
    "        l=int(input(\"Enter length: \"))\n",
    "        b=int(input(\"Enter breadth: \"))\n",
    "        rectangle.rectarea(l,b)\n",
    "        rectangle.rectperi(l,b)\n",
    "    elif ch==2:\n",
    "        r=int(input(\"Enter radius: \"))\n",
    "        circ.circlearea(r)\n",
    "        circ.circleperi(r)\n",
    "    elif ch==3:\n",
    "        l = int(input(\"Enter length: \"))\n",
    "        b = int(input(\"Enter breadth: \"))\n",
    "        h= int(input(\"Enter height: \"))\n",
    "        cub.cuboidarea(l,b,h)\n",
    "        cub.cuboidperi(l,b,h)\n",
    "    elif ch==4:\n",
    "        r=int(input(\"Enter radius: \"))\n",
    "        spr.spherearea(r)\n",
    "        spr.sphereperi(r)\n",
    "    else:\n",
    "        print(\"Exiting...\")\n",
    "        break"
   ]
  },
  {
   "cell_type": "code",
   "execution_count": null,
   "metadata": {
    "collapsed": true
   },
   "outputs": [],
   "source": []
  },
  {
   "cell_type": "code",
   "execution_count": null,
   "metadata": {
    "collapsed": true
   },
   "outputs": [],
   "source": []
  }
 ],
 "metadata": {
  "kernelspec": {
   "display_name": "Python 3",
   "language": "python",
   "name": "python3"
  },
  "language_info": {
   "codemirror_mode": {
    "name": "ipython",
    "version": 3
   },
   "file_extension": ".py",
   "mimetype": "text/x-python",
   "name": "python",
   "nbconvert_exporter": "python",
   "pygments_lexer": "ipython3",
   "version": "3.6.3"
  }
 },
 "nbformat": 4,
 "nbformat_minor": 2
}
