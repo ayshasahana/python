{
 "cells": [
  {
   "cell_type": "code",
   "execution_count": 1,
   "metadata": {},
   "outputs": [
    {
     "name": "stdout",
     "output_type": "stream",
     "text": [
      "first list is: {'White', 'Yellow', 'Red', 'Black'}\n",
      "second list is: {'Red', 'Green'}\n",
      "The new list is: {'White', 'Yellow', 'Black'}\n"
     ]
    }
   ],
   "source": [
    "# Print colors in list1 and not in list2\n",
    "l1 = set([\"White\", \"Black\", \"Red\", \"Yellow\"])\n",
    "l2 = set([\"Red\", \"Green\"])\n",
    "print(\"first list is:\",l1)\n",
    "print(\"second list is:\",l2)\n",
    "l3=l1.difference(l2)\n",
    "print(\"The new list is:\",l3)\n"
   ]
  },
  {
   "cell_type": "code",
   "execution_count": null,
   "metadata": {
    "collapsed": true
   },
   "outputs": [],
   "source": []
  }
 ],
 "metadata": {
  "kernelspec": {
   "display_name": "Python 3",
   "language": "python",
   "name": "python3"
  },
  "language_info": {
   "codemirror_mode": {
    "name": "ipython",
    "version": 3
   },
   "file_extension": ".py",
   "mimetype": "text/x-python",
   "name": "python",
   "nbconvert_exporter": "python",
   "pygments_lexer": "ipython3",
   "version": "3.6.3"
  }
 },
 "nbformat": 4,
 "nbformat_minor": 2
}
