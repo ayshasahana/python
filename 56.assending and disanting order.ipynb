{
 "cells": [
  {
   "cell_type": "code",
   "execution_count": 8,
   "metadata": {},
   "outputs": [
    {
     "name": "stdout",
     "output_type": "stream",
     "text": [
      "DICTIONARY= {'apple': 0, 'orange': 3, 'banana': 1, 'mango': 2}\n",
      "dictionary in ascending order: {'apple': 0, 'banana': 1, 'mango': 2, 'orange': 3}\n",
      "dictionary in descending order: {'orange': 3, 'mango': 2, 'banana': 1, 'apple': 0}\n"
     ]
    }
   ],
   "source": [
    "#sorting in ascending and descending\n",
    "d={'apple':0,'orange':3,'banana':1,'mango':2}\n",
    "print(\"DICTIONARY=\",d)\n",
    "items=list(d.items())\n",
    "items.sort()\n",
    "d=dict(items)\n",
    "print(\"dictionary in ascending order:\",d)\n",
    " \n",
    "items=list(d.items())\n",
    "items.reverse()\n",
    "d=dict(items)\n",
    "print(\"dictionary in descending order:\",d)\n"
   ]
  },
  {
   "cell_type": "code",
   "execution_count": null,
   "metadata": {
    "collapsed": true
   },
   "outputs": [],
   "source": []
  },
  {
   "cell_type": "code",
   "execution_count": null,
   "metadata": {
    "collapsed": true
   },
   "outputs": [],
   "source": []
  }
 ],
 "metadata": {
  "kernelspec": {
   "display_name": "Python 3",
   "language": "python",
   "name": "python3"
  },
  "language_info": {
   "codemirror_mode": {
    "name": "ipython",
    "version": 3
   },
   "file_extension": ".py",
   "mimetype": "text/x-python",
   "name": "python",
   "nbconvert_exporter": "python",
   "pygments_lexer": "ipython3",
   "version": "3.6.3"
  }
 },
 "nbformat": 4,
 "nbformat_minor": 2
}
