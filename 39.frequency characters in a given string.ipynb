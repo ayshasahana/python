{
 "cells": [
  {
   "cell_type": "code",
   "execution_count": 13,
   "metadata": {},
   "outputs": [
    {
     "name": "stdout",
     "output_type": "stream",
     "text": [
      "enter a string:khgyhgb\n",
      "k is repeated 1 time(s)\n",
      "h is repeated 2 time(s)\n",
      "g is repeated 2 time(s)\n",
      "y is repeated 1 time(s)\n",
      "b is repeated 1 time(s)\n"
     ]
    }
   ],
   "source": [
    "#frequency characters in a given string\n",
    "s=input(\"enter a string:\")\n",
    "frq={}\n",
    "for i in s:\n",
    "    if i in frq:\n",
    "        frq[i]=frq[i]+1\n",
    "    else:\n",
    "        frq[i]=1\n",
    "for keys , value in frq.items():\n",
    "    print(keys,\"is repeated\",value,\"time(s)\")"
   ]
  },
  {
   "cell_type": "markdown",
   "metadata": {},
   "source": []
  },
  {
   "cell_type": "code",
   "execution_count": null,
   "metadata": {
    "collapsed": true
   },
   "outputs": [],
   "source": []
  }
 ],
 "metadata": {
  "kernelspec": {
   "display_name": "Python 3",
   "language": "python",
   "name": "python3"
  },
  "language_info": {
   "codemirror_mode": {
    "name": "ipython",
    "version": 3
   },
   "file_extension": ".py",
   "mimetype": "text/x-python",
   "name": "python",
   "nbconvert_exporter": "python",
   "pygments_lexer": "ipython3",
   "version": "3.6.3"
  }
 },
 "nbformat": 4,
 "nbformat_minor": 2
}
