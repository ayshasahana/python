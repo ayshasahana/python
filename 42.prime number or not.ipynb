{
 "cells": [
  {
   "cell_type": "code",
   "execution_count": 4,
   "metadata": {},
   "outputs": [
    {
     "name": "stdout",
     "output_type": "stream",
     "text": [
      "Enter a number:0\n",
      "0 is neither prime not composite\n"
     ]
    }
   ],
   "source": [
    "#prime number or not\n",
    "num=int(input(\"Enter a number:\"))\n",
    "if num>2:\n",
    "    for i in range(2,num):\n",
    "        if (num%i)==0:\n",
    "            print(num,\"is not prime\")\n",
    "            break;\n",
    "    else:\n",
    "        print(num,\"is a prime \")\n",
    "   \n",
    "elif(num==0 or num==1):\n",
    "    print(num,\"is neither prime not composite\")\n",
    "    "
   ]
  },
  {
   "cell_type": "code",
   "execution_count": null,
   "metadata": {
    "collapsed": true
   },
   "outputs": [],
   "source": []
  }
 ],
 "metadata": {
  "kernelspec": {
   "display_name": "Python 3",
   "language": "python",
   "name": "python3"
  },
  "language_info": {
   "codemirror_mode": {
    "name": "ipython",
    "version": 3
   },
   "file_extension": ".py",
   "mimetype": "text/x-python",
   "name": "python",
   "nbconvert_exporter": "python",
   "pygments_lexer": "ipython3",
   "version": "3.6.3"
  }
 },
 "nbformat": 4,
 "nbformat_minor": 2
}
