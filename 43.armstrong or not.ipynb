{
 "cells": [
  {
   "cell_type": "code",
   "execution_count": 3,
   "metadata": {},
   "outputs": [
    {
     "name": "stdout",
     "output_type": "stream",
     "text": [
      "Enter a number:153\n",
      "153  is an armstrong number\n"
     ]
    }
   ],
   "source": [
    "#armstrong or not\n",
    "n=int(input(\"Enter a number:\"))\n",
    "a=n\n",
    "sum=0\n",
    "while(a>0):\n",
    "    s=a%10\n",
    "    sum=sum+s**3\n",
    "    a=a//10\n",
    "if(n==sum):\n",
    "    print(n,\" is an armstrong number\")\n",
    "else:\n",
    "    print(n,\" is not an armstrong number\")"
   ]
  },
  {
   "cell_type": "code",
   "execution_count": null,
   "metadata": {
    "collapsed": true
   },
   "outputs": [],
   "source": []
  }
 ],
 "metadata": {
  "kernelspec": {
   "display_name": "Python 3",
   "language": "python",
   "name": "python3"
  },
  "language_info": {
   "codemirror_mode": {
    "name": "ipython",
    "version": 3
   },
   "file_extension": ".py",
   "mimetype": "text/x-python",
   "name": "python",
   "nbconvert_exporter": "python",
   "pygments_lexer": "ipython3",
   "version": "3.6.3"
  }
 },
 "nbformat": 4,
 "nbformat_minor": 2
}
