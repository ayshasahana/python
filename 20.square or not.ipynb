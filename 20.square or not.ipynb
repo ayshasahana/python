{
 "cells": [
  {
   "cell_type": "code",
   "execution_count": 10,
   "metadata": {},
   "outputs": [
    {
     "name": "stdout",
     "output_type": "stream",
     "text": [
      "enter the length:33.4\n",
      "enter the breadth:22\n",
      "is a rectangle.\n"
     ]
    }
   ],
   "source": [
    "a=float(input(\"enter the length:\"))\n",
    "b=float(input(\"enter the breadth:\"))\n",
    "if(a==b):\n",
    " print(\"is a square.\")\n",
    "else:\n",
    " print(\"is a rectangle.\")"
   ]
  },
  {
   "cell_type": "markdown",
   "metadata": {},
   "source": [
    "##### "
   ]
  }
 ],
 "metadata": {
  "kernelspec": {
   "display_name": "Python 3",
   "language": "python",
   "name": "python3"
  },
  "language_info": {
   "codemirror_mode": {
    "name": "ipython",
    "version": 3
   },
   "file_extension": ".py",
   "mimetype": "text/x-python",
   "name": "python",
   "nbconvert_exporter": "python",
   "pygments_lexer": "ipython3",
   "version": "3.6.3"
  }
 },
 "nbformat": 4,
 "nbformat_minor": 2
}
